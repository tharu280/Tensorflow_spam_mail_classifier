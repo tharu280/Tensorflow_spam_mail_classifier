{
 "cells": [
  {
   "cell_type": "code",
   "execution_count": 1,
   "id": "be3df9f9-e84c-4e26-9d3b-5c098c7133bb",
   "metadata": {},
   "outputs": [],
   "source": [
    "import pandas as pd"
   ]
  },
  {
   "cell_type": "code",
   "execution_count": 2,
   "id": "83323745-8b80-4297-93ba-e4f27b58d8de",
   "metadata": {},
   "outputs": [],
   "source": [
    "df = pd.read_csv('mail_data.csv')"
   ]
  },
  {
   "cell_type": "code",
   "execution_count": 3,
   "id": "c6af7070-727f-405f-8ee6-3ac69a302953",
   "metadata": {},
   "outputs": [
    {
     "data": {
      "text/html": [
       "<div>\n",
       "<style scoped>\n",
       "    .dataframe tbody tr th:only-of-type {\n",
       "        vertical-align: middle;\n",
       "    }\n",
       "\n",
       "    .dataframe tbody tr th {\n",
       "        vertical-align: top;\n",
       "    }\n",
       "\n",
       "    .dataframe thead th {\n",
       "        text-align: right;\n",
       "    }\n",
       "</style>\n",
       "<table border=\"1\" class=\"dataframe\">\n",
       "  <thead>\n",
       "    <tr style=\"text-align: right;\">\n",
       "      <th></th>\n",
       "      <th>Category</th>\n",
       "      <th>Message</th>\n",
       "    </tr>\n",
       "  </thead>\n",
       "  <tbody>\n",
       "    <tr>\n",
       "      <th>0</th>\n",
       "      <td>ham</td>\n",
       "      <td>Go until jurong point, crazy.. Available only ...</td>\n",
       "    </tr>\n",
       "    <tr>\n",
       "      <th>1</th>\n",
       "      <td>ham</td>\n",
       "      <td>Ok lar... Joking wif u oni...</td>\n",
       "    </tr>\n",
       "    <tr>\n",
       "      <th>2</th>\n",
       "      <td>spam</td>\n",
       "      <td>Free entry in 2 a wkly comp to win FA Cup fina...</td>\n",
       "    </tr>\n",
       "    <tr>\n",
       "      <th>3</th>\n",
       "      <td>ham</td>\n",
       "      <td>U dun say so early hor... U c already then say...</td>\n",
       "    </tr>\n",
       "    <tr>\n",
       "      <th>4</th>\n",
       "      <td>ham</td>\n",
       "      <td>Nah I don't think he goes to usf, he lives aro...</td>\n",
       "    </tr>\n",
       "  </tbody>\n",
       "</table>\n",
       "</div>"
      ],
      "text/plain": [
       "  Category                                            Message\n",
       "0      ham  Go until jurong point, crazy.. Available only ...\n",
       "1      ham                      Ok lar... Joking wif u oni...\n",
       "2     spam  Free entry in 2 a wkly comp to win FA Cup fina...\n",
       "3      ham  U dun say so early hor... U c already then say...\n",
       "4      ham  Nah I don't think he goes to usf, he lives aro..."
      ]
     },
     "execution_count": 3,
     "metadata": {},
     "output_type": "execute_result"
    }
   ],
   "source": [
    "df.head()"
   ]
  },
  {
   "cell_type": "code",
   "execution_count": 4,
   "id": "98006073-8ec2-45c8-a827-0fd6377ca98f",
   "metadata": {},
   "outputs": [
    {
     "name": "stderr",
     "output_type": "stream",
     "text": [
      "/Users/dilshantharushika/miniforge3/lib/python3.10/site-packages/scipy/__init__.py:146: UserWarning: A NumPy version >=1.16.5 and <1.23.0 is required for this version of SciPy (detected version 1.26.4\n",
      "  warnings.warn(f\"A NumPy version >={np_minversion} and <{np_maxversion}\"\n"
     ]
    }
   ],
   "source": [
    "import os\n",
    "import tensorflow as tf\n",
    "import numpy as np\n",
    "from tensorflow.keras.layers import TextVectorization"
   ]
  },
  {
   "cell_type": "code",
   "execution_count": 5,
   "id": "bdb178e7-73b6-4e0e-a210-f945c775a083",
   "metadata": {},
   "outputs": [],
   "source": [
    "df.loc[df['Category'] == 'spam', 'Category'] = 1\n",
    "df.loc[df['Category'] == 'ham', 'Category'] = 0\n"
   ]
  },
  {
   "cell_type": "code",
   "execution_count": 6,
   "id": "1a040285-5161-42e8-8bb6-27abfdefa242",
   "metadata": {},
   "outputs": [],
   "source": [
    "df['Category'] = df['Category'].astype(int)\n"
   ]
  },
  {
   "cell_type": "code",
   "execution_count": 7,
   "id": "57ae78b5-ee9f-4feb-9a3b-642cb5f6e7bd",
   "metadata": {},
   "outputs": [],
   "source": [
    "X= df['Message']\n",
    "y= df['Category']"
   ]
  },
  {
   "cell_type": "code",
   "execution_count": 8,
   "id": "2d5fb50b-cfe4-492f-94e2-c7ae0ec2098e",
   "metadata": {},
   "outputs": [],
   "source": [
    "MAX_FEATURES = 200000"
   ]
  },
  {
   "cell_type": "code",
   "execution_count": 9,
   "id": "08327e2f-bbad-4ba4-a1da-7b48282a23e6",
   "metadata": {},
   "outputs": [],
   "source": [
    "vectorizer = TextVectorization(max_tokens=MAX_FEATURES,\n",
    "                              output_sequence_length=1800,\n",
    "                              output_mode='int')"
   ]
  },
  {
   "cell_type": "code",
   "execution_count": 10,
   "id": "519cbecc-6fa8-478e-9bcd-d390dfde4f1f",
   "metadata": {},
   "outputs": [
    {
     "name": "stdout",
     "output_type": "stream",
     "text": [
      "int64\n"
     ]
    }
   ],
   "source": [
    "print(y.dtype)  "
   ]
  },
  {
   "cell_type": "code",
   "execution_count": 11,
   "id": "3036961a-50a7-4ebe-846e-7a7b399a8f75",
   "metadata": {},
   "outputs": [],
   "source": [
    "vectorizer.adapt(X.values)"
   ]
  },
  {
   "cell_type": "code",
   "execution_count": 12,
   "id": "f04bc302-0fe6-4191-a3ae-7ff00a395965",
   "metadata": {},
   "outputs": [],
   "source": [
    "vectorized_text = vectorizer(X.values)"
   ]
  },
  {
   "cell_type": "code",
   "execution_count": 13,
   "id": "19db26ce-7630-4b8f-9aa7-efffaa04f61f",
   "metadata": {},
   "outputs": [],
   "source": [
    "dataset = tf.data.Dataset.from_tensor_slices((vectorized_text, y))\n",
    "dataset = dataset.cache()\n",
    "dataset = dataset.shuffle(160000)\n",
    "dataset = dataset.batch(16)\n",
    "dataset = dataset.prefetch(8)"
   ]
  },
  {
   "cell_type": "code",
   "execution_count": 14,
   "id": "55359d8a-b6f3-45ed-8bf0-38f309001f61",
   "metadata": {},
   "outputs": [],
   "source": [
    "train = dataset.take(int(len(dataset)*.7))\n",
    "val = dataset.skip(int(len(dataset)*.7)).take(int(len(dataset)*.2))\n",
    "test = dataset.skip(int(len(dataset)*.9)).take(int(len(dataset)*.1))"
   ]
  },
  {
   "cell_type": "code",
   "execution_count": 16,
   "id": "536c4898-4c79-4ec5-850a-7ccdda738516",
   "metadata": {},
   "outputs": [
    {
     "name": "stdout",
     "output_type": "stream",
     "text": [
      "Epoch 1/50\n",
      "244/244 [==============================] - 1s 1ms/step - loss: 14.3630 - accuracy: 0.7705 - val_loss: 7.7208 - val_accuracy: 0.8243\n",
      "Epoch 2/50\n",
      "244/244 [==============================] - 0s 1ms/step - loss: 6.4500 - accuracy: 0.8268 - val_loss: 5.4643 - val_accuracy: 0.8478\n",
      "Epoch 3/50\n",
      "244/244 [==============================] - 0s 1ms/step - loss: 4.7286 - accuracy: 0.8414 - val_loss: 2.8086 - val_accuracy: 0.8659\n",
      "Epoch 4/50\n",
      "244/244 [==============================] - 0s 1ms/step - loss: 3.6136 - accuracy: 0.8555 - val_loss: 2.3956 - val_accuracy: 0.8850\n",
      "Epoch 5/50\n",
      "244/244 [==============================] - 0s 1ms/step - loss: 2.7553 - accuracy: 0.8630 - val_loss: 1.9411 - val_accuracy: 0.8641\n",
      "Epoch 6/50\n",
      "244/244 [==============================] - 0s 1ms/step - loss: 2.1804 - accuracy: 0.8809 - val_loss: 1.5457 - val_accuracy: 0.9004\n",
      "Epoch 7/50\n",
      "244/244 [==============================] - 0s 1ms/step - loss: 2.1619 - accuracy: 0.8673 - val_loss: 1.3991 - val_accuracy: 0.9067\n",
      "Epoch 8/50\n",
      "244/244 [==============================] - 0s 1ms/step - loss: 1.5600 - accuracy: 0.8847 - val_loss: 1.0797 - val_accuracy: 0.8931\n",
      "Epoch 9/50\n",
      "244/244 [==============================] - 0s 1ms/step - loss: 1.2958 - accuracy: 0.8991 - val_loss: 1.1515 - val_accuracy: 0.8859\n",
      "Epoch 10/50\n",
      "244/244 [==============================] - 0s 1ms/step - loss: 1.1904 - accuracy: 0.8975 - val_loss: 1.0680 - val_accuracy: 0.9139\n",
      "Epoch 11/50\n",
      "244/244 [==============================] - 0s 1ms/step - loss: 1.0584 - accuracy: 0.8988 - val_loss: 0.9109 - val_accuracy: 0.9212\n",
      "Epoch 12/50\n",
      "244/244 [==============================] - 0s 1ms/step - loss: 0.9206 - accuracy: 0.9042 - val_loss: 0.7891 - val_accuracy: 0.9094\n",
      "Epoch 13/50\n",
      "244/244 [==============================] - 0s 1ms/step - loss: 0.8114 - accuracy: 0.9114 - val_loss: 0.4795 - val_accuracy: 0.9312\n",
      "Epoch 14/50\n",
      "244/244 [==============================] - 0s 1ms/step - loss: 0.7220 - accuracy: 0.9144 - val_loss: 0.4785 - val_accuracy: 0.9149\n",
      "Epoch 15/50\n",
      "244/244 [==============================] - 0s 1ms/step - loss: 0.6795 - accuracy: 0.9183 - val_loss: 0.5403 - val_accuracy: 0.9438\n",
      "Epoch 16/50\n",
      "244/244 [==============================] - 0s 1ms/step - loss: 0.5581 - accuracy: 0.9316 - val_loss: 0.3785 - val_accuracy: 0.9520\n",
      "Epoch 17/50\n",
      "244/244 [==============================] - 0s 1ms/step - loss: 0.5125 - accuracy: 0.9308 - val_loss: 0.4530 - val_accuracy: 0.9266\n",
      "Epoch 18/50\n",
      "244/244 [==============================] - 0s 1ms/step - loss: 0.5526 - accuracy: 0.9296 - val_loss: 0.5136 - val_accuracy: 0.9330\n",
      "Epoch 19/50\n",
      "244/244 [==============================] - 0s 1ms/step - loss: 0.4838 - accuracy: 0.9375 - val_loss: 0.3071 - val_accuracy: 0.9629\n",
      "Epoch 20/50\n",
      "244/244 [==============================] - 0s 1ms/step - loss: 0.4145 - accuracy: 0.9429 - val_loss: 0.2938 - val_accuracy: 0.9520\n",
      "Epoch 21/50\n",
      "244/244 [==============================] - 0s 1ms/step - loss: 0.4538 - accuracy: 0.9344 - val_loss: 0.2837 - val_accuracy: 0.9565\n",
      "Epoch 22/50\n",
      "244/244 [==============================] - 0s 1ms/step - loss: 0.3227 - accuracy: 0.9544 - val_loss: 0.4381 - val_accuracy: 0.9411\n",
      "Epoch 23/50\n",
      "244/244 [==============================] - 0s 1ms/step - loss: 0.3774 - accuracy: 0.9447 - val_loss: 0.2780 - val_accuracy: 0.9420\n",
      "Epoch 24/50\n",
      "244/244 [==============================] - 0s 1ms/step - loss: 0.3444 - accuracy: 0.9457 - val_loss: 0.4251 - val_accuracy: 0.9384\n",
      "Epoch 25/50\n",
      "244/244 [==============================] - 0s 1ms/step - loss: 0.3994 - accuracy: 0.9475 - val_loss: 0.4015 - val_accuracy: 0.9484\n",
      "Epoch 26/50\n",
      "244/244 [==============================] - 0s 1ms/step - loss: 0.4419 - accuracy: 0.9460 - val_loss: 0.4259 - val_accuracy: 0.9484\n",
      "Epoch 27/50\n",
      "244/244 [==============================] - 0s 1ms/step - loss: 0.3660 - accuracy: 0.9511 - val_loss: 0.2338 - val_accuracy: 0.9620\n",
      "Epoch 28/50\n",
      "244/244 [==============================] - 0s 1ms/step - loss: 0.3543 - accuracy: 0.9475 - val_loss: 0.2720 - val_accuracy: 0.9620\n",
      "Epoch 29/50\n",
      "244/244 [==============================] - 0s 1ms/step - loss: 0.3216 - accuracy: 0.9539 - val_loss: 0.2632 - val_accuracy: 0.9665\n",
      "Epoch 30/50\n",
      "244/244 [==============================] - 0s 1ms/step - loss: 0.2499 - accuracy: 0.9631 - val_loss: 0.2454 - val_accuracy: 0.9592\n",
      "Epoch 31/50\n",
      "244/244 [==============================] - 0s 1ms/step - loss: 0.3109 - accuracy: 0.9524 - val_loss: 0.4363 - val_accuracy: 0.9429\n",
      "Epoch 32/50\n",
      "244/244 [==============================] - 0s 1ms/step - loss: 0.4056 - accuracy: 0.9436 - val_loss: 0.3051 - val_accuracy: 0.9556\n",
      "Epoch 33/50\n",
      "244/244 [==============================] - 0s 1ms/step - loss: 0.2636 - accuracy: 0.9588 - val_loss: 0.3898 - val_accuracy: 0.9411\n",
      "Epoch 34/50\n",
      "244/244 [==============================] - 0s 1ms/step - loss: 0.2970 - accuracy: 0.9536 - val_loss: 0.1742 - val_accuracy: 0.9710\n",
      "Epoch 35/50\n",
      "244/244 [==============================] - 0s 1ms/step - loss: 0.2764 - accuracy: 0.9567 - val_loss: 0.2046 - val_accuracy: 0.9665\n",
      "Epoch 36/50\n",
      "244/244 [==============================] - 0s 1ms/step - loss: 0.2005 - accuracy: 0.9659 - val_loss: 0.2015 - val_accuracy: 0.9674\n",
      "Epoch 37/50\n",
      "244/244 [==============================] - 0s 1ms/step - loss: 0.2773 - accuracy: 0.9577 - val_loss: 0.2250 - val_accuracy: 0.9620\n",
      "Epoch 38/50\n",
      "244/244 [==============================] - 0s 1ms/step - loss: 0.2281 - accuracy: 0.9585 - val_loss: 0.1969 - val_accuracy: 0.9647\n",
      "Epoch 39/50\n",
      "244/244 [==============================] - 0s 1ms/step - loss: 0.2512 - accuracy: 0.9603 - val_loss: 0.2390 - val_accuracy: 0.9565\n",
      "Epoch 40/50\n",
      "244/244 [==============================] - 0s 1ms/step - loss: 0.2235 - accuracy: 0.9672 - val_loss: 0.1579 - val_accuracy: 0.9710\n",
      "Epoch 41/50\n",
      "244/244 [==============================] - 0s 1ms/step - loss: 0.1835 - accuracy: 0.9654 - val_loss: 0.1484 - val_accuracy: 0.9710\n",
      "Epoch 42/50\n",
      "244/244 [==============================] - 0s 1ms/step - loss: 0.1811 - accuracy: 0.9662 - val_loss: 0.1700 - val_accuracy: 0.9728\n",
      "Epoch 43/50\n",
      "244/244 [==============================] - 0s 1ms/step - loss: 0.2115 - accuracy: 0.9636 - val_loss: 0.2553 - val_accuracy: 0.9592\n",
      "Epoch 44/50\n",
      "244/244 [==============================] - 0s 1ms/step - loss: 0.2765 - accuracy: 0.9577 - val_loss: 0.1562 - val_accuracy: 0.9683\n",
      "Epoch 45/50\n",
      "244/244 [==============================] - 0s 1ms/step - loss: 0.1843 - accuracy: 0.9721 - val_loss: 0.2133 - val_accuracy: 0.9710\n",
      "Epoch 46/50\n",
      "244/244 [==============================] - 0s 1ms/step - loss: 0.2416 - accuracy: 0.9657 - val_loss: 0.1853 - val_accuracy: 0.9692\n",
      "Epoch 47/50\n",
      "244/244 [==============================] - 0s 1ms/step - loss: 0.2288 - accuracy: 0.9629 - val_loss: 0.1680 - val_accuracy: 0.9683\n",
      "Epoch 48/50\n",
      "244/244 [==============================] - 0s 1ms/step - loss: 0.2099 - accuracy: 0.9644 - val_loss: 0.2805 - val_accuracy: 0.9592\n",
      "Epoch 49/50\n",
      "244/244 [==============================] - 0s 1ms/step - loss: 0.3261 - accuracy: 0.9559 - val_loss: 0.2458 - val_accuracy: 0.9592\n",
      "Epoch 50/50\n",
      "244/244 [==============================] - 0s 1ms/step - loss: 0.2159 - accuracy: 0.9629 - val_loss: 0.2176 - val_accuracy: 0.9547\n",
      "34/34 [==============================] - 0s 611us/step - loss: 0.2872 - accuracy: 0.9559\n",
      "Test Accuracy: 95.59%\n"
     ]
    }
   ],
   "source": [
    "import tensorflow as tf\n",
    "from tensorflow.keras.layers import Dense\n",
    "\n",
    "\n",
    "logistic_model = tf.keras.Sequential([\n",
    "    tf.keras.layers.InputLayer(input_shape=(1800,)),\n",
    "    tf.keras.layers.Dense(64, activation='relu'),  \n",
    "    tf.keras.layers.Dense(32, activation='relu'), \n",
    "    tf.keras.layers.Dense(1, activation='sigmoid')  \n",
    "])\n",
    "\n",
    "\n",
    "logistic_model.compile(\n",
    "    optimizer=tf.keras.optimizers.legacy.Adam(learning_rate=0.0002), \n",
    "    loss='binary_crossentropy', \n",
    "    metrics=['accuracy']        \n",
    ")\n",
    "\n",
    "\n",
    "history = logistic_model.fit(train, validation_data=val, epochs=50)\n",
    "\n",
    "\n",
    "test_loss, test_accuracy = logistic_model.evaluate(test)\n",
    "print(f\"Test Accuracy: {test_accuracy * 100:.2f}%\")\n",
    "\n"
   ]
  },
  {
   "cell_type": "code",
   "execution_count": null,
   "id": "1aae732c-0668-441f-99d2-f51c27f70941",
   "metadata": {},
   "outputs": [],
   "source": []
  }
 ],
 "metadata": {
  "kernelspec": {
   "display_name": "Python 3 (ipykernel)",
   "language": "python",
   "name": "python3"
  },
  "language_info": {
   "codemirror_mode": {
    "name": "ipython",
    "version": 3
   },
   "file_extension": ".py",
   "mimetype": "text/x-python",
   "name": "python",
   "nbconvert_exporter": "python",
   "pygments_lexer": "ipython3",
   "version": "3.10.9"
  }
 },
 "nbformat": 4,
 "nbformat_minor": 5
}
